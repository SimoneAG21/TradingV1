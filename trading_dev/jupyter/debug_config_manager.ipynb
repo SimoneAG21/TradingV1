{
 "cells": [
  {
   "cell_type": "code",
   "execution_count": null,
   "id": "236c9c5b-7a96-4a78-82b2-862588669729",
   "metadata": {},
   "outputs": [],
   "source": [
    "import sys\n",
    "import os\n",
    "\n",
    "# Add project root to sys.path\n",
    "project_root = os.path.abspath(os.path.join(os.getcwd(), '..'))\n",
    "sys.path.append(project_root)\n",
    "\n",
    "# Import ConfigManager\n",
    "from helper.config_manager import ConfigManager\n",
    "\n",
    "print(\"ConfigManager imported successfully\")"
   ]
  },
  {
   "cell_type": "code",
   "execution_count": null,
   "id": "71d1f220-c3f9-4113-9428-8b1226e5576c",
   "metadata": {},
   "outputs": [],
   "source": [
    "# Create ConfigManager instance\n",
    "config = ConfigManager('tests/combined_config_test.yaml', project_root=project_root)\n",
    "\n",
    "# Print loaded config\n",
    "print(\"Loaded config:\", config._data)\n",
    "\n",
    "# Test get method\n",
    "result = config.get(\"logging\", \"log_dir_name\")\n",
    "print(\"Result of get('logging', 'log_dir_name'):\", result)\n",
    "\n",
    "# Replicate test_singleton_pattern assertion\n",
    "assert result == \"logs\", \"Singleton not initialized\"\n",
    "print(\"Test passed: get('logging', 'log_dir_name') returned 'logs'\")"
   ]
  },
  {
   "cell_type": "code",
   "execution_count": null,
   "id": "c81db0b5-6d4b-4d45-86b7-5f31bc8c50b3",
   "metadata": {},
   "outputs": [],
   "source": []
  }
 ],
 "metadata": {
  "kernelspec": {
   "display_name": "Python 3 (ipykernel)",
   "language": "python",
   "name": "python3"
  },
  "language_info": {
   "codemirror_mode": {
    "name": "ipython",
    "version": 3
   },
   "file_extension": ".py",
   "mimetype": "text/x-python",
   "name": "python",
   "nbconvert_exporter": "python",
   "pygments_lexer": "ipython3",
   "version": "3.12.3"
  }
 },
 "nbformat": 4,
 "nbformat_minor": 5
}
