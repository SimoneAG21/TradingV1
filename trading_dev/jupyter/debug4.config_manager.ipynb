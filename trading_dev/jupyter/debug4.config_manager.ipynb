{
 "cells": [
  {
   "cell_type": "code",
   "execution_count": 1,
   "id": "3296d7fe-e30e-48dc-b18f-d627c72d29b7",
   "metadata": {},
   "outputs": [
    {
     "name": "stdout",
     "output_type": "stream",
     "text": [
      "The value of CHTRKR_ROOT is: /home/egirg/shared/trading_dev\n"
     ]
    }
   ],
   "source": [
    "import os\n",
    "\n",
    "chtrkr_root_value = os.environ.get('CHTRKR_ROOT')\n",
    "\n",
    "if chtrkr_root_value is not None:\n",
    "    print(f\"The value of CHTRKR_ROOT is: {chtrkr_root_value}\")\n",
    "else:\n",
    "    print(\"The environment variable CHTRKR_ROOT is not set.\")"
   ]
  },
  {
   "cell_type": "code",
   "execution_count": 2,
   "id": "2fd5fd04-6ccd-454a-b682-4427223ddc09",
   "metadata": {},
   "outputs": [
    {
     "name": "stdout",
     "output_type": "stream",
     "text": [
      "ConfigManager imported successfully\n"
     ]
    }
   ],
   "source": [
    "import sys\n",
    "import os\n",
    "\n",
    "# Add project root to sys.path\n",
    "project_root = \"/home/egirg/shared/trading_dev\"\n",
    "sys.path.append(project_root)\n",
    "\n",
    "# Import ConfigManager\n",
    "from helper.config_manager import ConfigManager\n",
    "\n",
    "print(\"ConfigManager imported successfully\")"
   ]
  },
  {
   "cell_type": "code",
   "execution_count": 3,
   "id": "e907ed26-4dce-486b-b91e-ce451cd18f4f",
   "metadata": {},
   "outputs": [
    {
     "name": "stdout",
     "output_type": "stream",
     "text": [
      "Using project_root: /home/egirg/shared/trading_dev\n",
      "Loading config file: /home/egirg/shared/trading_dev/config/channel_sync_config.yaml\n",
      "Loading include file: /home/egirg/shared/trading_dev/config/combined_config.yaml\n",
      "Processes: [{'name': 'channel_sync', 'template': 'sync_template'}]\n",
      "Templates: {'sync_template': {'enabled': True, 'retry_count': 3}}\n",
      "Getting section: constants, key: is_test_mode with default: False\n",
      "Returning value: False for constants.is_test_mode\n",
      "is_test_mode: False (type: <class 'bool'>)\n",
      "Processing process: {'name': 'channel_sync', 'template': 'sync_template'}\n",
      "Applying template sync_template: {'enabled': True, 'retry_count': 3}\n",
      "New processes: [{'name': 'channel_sync', 'enabled': True, 'retry_count': 3}]\n",
      "Merged config: {'schedule': {'interval_minutes': 180}, 'lockfile': {'base_dir': '/home/egirg/shared/trading_dev', 'trigger_name': 'channel_tracker_trigger.lock', 'exit_name': 'channel_tracker_exit.lock', 'lock_name': 'channel_tracker.lock', 'check_seconds': 60}, 'log_file': 'channel_sync', 'includes': ['config/combined_config.yaml'], 'processes': [{'name': 'channel_sync', 'enabled': True, 'retry_count': 3}], 'database': {'mysql': {'user': 'trading_dev_user', 'password': 'devStrongPass2025!', 'host': 'localhost', 'port': 3306, 'database': 'Trading_dev'}}, 'telegram': {'api_id': 27715324, 'api_hash': '72f0a5168ab258f7b6cb169c78ff31d6', 'phone': '+14698380038', 'session_path': 'sessions/my_telegram_client.session'}, 'templates': {'sync_template': {'enabled': True, 'retry_count': 3}}}\n",
      "Getting section: , key: log_file\n",
      "Returning value: channel_sync for .log_file\n",
      "log_file (top-level): channel_sync\n",
      "Getting section: logging, key: log_file\n",
      "Returning value: {} for logging.log_file\n",
      "logging.log_file: {}\n",
      "Getting section: logging\n",
      "logging section: {}\n",
      "Getting section: database, key: mysql.user\n",
      "Returning value: trading_dev_user for database.mysql.user\n",
      "database.mysql.user: trading_dev_user\n"
     ]
    }
   ],
   "source": [
    "# Initialize ConfigManager\n",
    "config = ConfigManager('config/channel_sync_config.yaml', project_root='/home/egirg/shared/trading_dev')\n",
    "\n",
    "# Print entire merged config\n",
    "print(\"Merged config:\", config._data)\n",
    "\n",
    "# Test specific keys\n",
    "print(\"log_file (top-level):\", config.get('', 'log_file'))\n",
    "print(\"logging.log_file:\", config.get('logging', 'log_file'))\n",
    "print(\"logging section:\", config.get_section('logging'))\n",
    "print(\"database.mysql.user:\", config.get('database', 'mysql.user'))"
   ]
  },
  {
   "cell_type": "code",
   "execution_count": null,
   "id": "85ab1270-9281-496b-99bc-29ff7b6a117f",
   "metadata": {},
   "outputs": [],
   "source": []
  }
 ],
 "metadata": {
  "kernelspec": {
   "display_name": "Python 3 (ipykernel)",
   "language": "python",
   "name": "python3"
  },
  "language_info": {
   "codemirror_mode": {
    "name": "ipython",
    "version": 3
   },
   "file_extension": ".py",
   "mimetype": "text/x-python",
   "name": "python",
   "nbconvert_exporter": "python",
   "pygments_lexer": "ipython3",
   "version": "3.12.3"
  }
 },
 "nbformat": 4,
 "nbformat_minor": 5
}
