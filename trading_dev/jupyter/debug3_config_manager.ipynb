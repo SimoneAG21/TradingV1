{
 "cells": [
  {
   "cell_type": "code",
   "execution_count": 1,
   "id": "78c8f738-9212-459a-9e3f-11f1bd58935a",
   "metadata": {},
   "outputs": [
    {
     "name": "stdout",
     "output_type": "stream",
     "text": [
      "ConfigManager imported successfully\n"
     ]
    }
   ],
   "source": [
    "import sys\n",
    "import os\n",
    "\n",
    "# Add project root to sys.path\n",
    "project_root = \"/home/egirg/shared/trading_dev\"\n",
    "sys.path.append(project_root)\n",
    "\n",
    "# Import ConfigManager\n",
    "from helper.config_manager import ConfigManager\n",
    "\n",
    "print(\"ConfigManager imported successfully\")"
   ]
  },
  {
   "cell_type": "code",
   "execution_count": 2,
   "id": "f6016804-c8fc-482e-8dac-442e738bff81",
   "metadata": {},
   "outputs": [
    {
     "name": "stdout",
     "output_type": "stream",
     "text": [
      "Using project_root from environment variable CHTRKR_ROOT: /home/egirg/shared/trading_dev\n",
      "Using project_root: /home/egirg/shared/trading_dev\n",
      "Loading config file: /home/egirg/shared/trading_dev/tests/combined_config_test.yaml\n",
      "Loading include file: /home/egirg/shared/trading_dev/tests/processes.yaml\n",
      "Processes: [{'id': 'fetch', 'interval': {'value': 60, 'type': 'integer'}, 'enabled': {'value': True, 'type': 'boolean'}}, {'template': 'default_process', 'priority': {'value': 'high', 'type': 'string'}}, {'conditions': {'test': {'interval': {'value': 30, 'type': 'integer'}, 'mode': {'value': 'debug', 'type': 'string'}}, 'prod': {'interval': {'value': 300, 'type': 'integer'}, 'mode': {'value': 'optimized', 'type': 'string'}}}}, {'interval': {'value': 120, 'type': 'integer'}, 'sql': {'fetch_messages': \"SELECT * FROM telegram_messages WHERE timestamp > NOW() - INTERVAL '1 hour';\\n\"}}, {'id': 'sync', 'interval': {'value': 300, 'type': 'integer'}, 'timeout': {'value': 600, 'type': 'integer'}}]\n",
      "Templates: {'default_process': {'interval': {'value': 60, 'type': 'integer'}, 'enabled': {'value': True, 'type': 'boolean'}}}\n",
      "Getting section: constants, key: is_test_mode with default: False\n",
      "is_test_mode: True (type: <class 'bool'>)\n",
      "Processing process: {'id': 'fetch', 'interval': {'value': 60, 'type': 'integer'}, 'enabled': {'value': True, 'type': 'boolean'}}\n",
      "Processing process: {'template': 'default_process', 'priority': {'value': 'high', 'type': 'string'}}\n",
      "Applying template default_process: {'interval': {'value': 60, 'type': 'integer'}, 'enabled': {'value': True, 'type': 'boolean'}}\n",
      "Processing process: {'conditions': {'test': {'interval': {'value': 30, 'type': 'integer'}, 'mode': {'value': 'debug', 'type': 'string'}}, 'prod': {'interval': {'value': 300, 'type': 'integer'}, 'mode': {'value': 'optimized', 'type': 'string'}}}}\n",
      "Applying conditions for env: test\n",
      "Condition: {'interval': {'value': 30, 'type': 'integer'}, 'mode': {'value': 'debug', 'type': 'string'}}\n",
      "Processing process: {'interval': {'value': 120, 'type': 'integer'}, 'sql': {'fetch_messages': \"SELECT * FROM telegram_messages WHERE timestamp > NOW() - INTERVAL '1 hour';\\n\"}}\n",
      "Processing process: {'id': 'sync', 'interval': {'value': 300, 'type': 'integer'}, 'timeout': {'value': 600, 'type': 'integer'}}\n",
      "New processes: [{'id': 'fetch', 'interval': {'value': 60, 'type': 'integer'}, 'enabled': {'value': True, 'type': 'boolean'}}, {'priority': {'value': 'high', 'type': 'string'}, 'interval': {'value': 60, 'type': 'integer'}, 'enabled': {'value': True, 'type': 'boolean'}}, {'interval': {'value': 30, 'type': 'integer'}, 'mode': {'value': 'debug', 'type': 'string'}}, {'interval': {'value': 120, 'type': 'integer'}, 'sql': {'fetch_messages': \"SELECT * FROM telegram_messages WHERE timestamp > NOW() - INTERVAL '1 hour';\\n\"}}, {'id': 'sync', 'interval': {'value': 300, 'type': 'integer'}, 'timeout': {'value': 600, 'type': 'integer'}}]\n",
      "Loaded config: {'logging': {'log_dir_name': {'value': 'logs', 'type': 'string'}, 'log_file_max_bytes': {'value': 5000, 'type': 'integer'}, 'log_gen_level': {'value': 'INFO', 'type': 'string'}}, 'database': {'type': 'sqlite', 'path': ':memory', 'mysql': {'user': 'test_user', 'password': 'test_pass', 'host': 'localhost', 'port': 3306, 'database': 'test_db'}}, 'constants': {'max_retries': {'value': 2, 'type': 'integer'}, 'is_test_mode': {'value': True, 'type': 'boolean'}}, 'menu': {'Main': {'Trading': {'help': 'Test trading menu', 'Start': {'help': 'Start test trade', 'params': {'amount': {'default': 50.0, 'type': 'float'}}}}, 'Settings': {'help': 'Test settings'}, 'Exit': {'help': 'Exit test'}}}, 'templates': {'default_process': {'interval': {'value': 60, 'type': 'integer'}, 'enabled': {'value': True, 'type': 'boolean'}}}, 'processes': [{'id': 'fetch', 'interval': {'value': 60, 'type': 'integer'}, 'enabled': {'value': True, 'type': 'boolean'}}, {'priority': {'value': 'high', 'type': 'string'}, 'interval': {'value': 60, 'type': 'integer'}, 'enabled': {'value': True, 'type': 'boolean'}}, {'interval': {'value': 30, 'type': 'integer'}, 'mode': {'value': 'debug', 'type': 'string'}}, {'interval': {'value': 120, 'type': 'integer'}, 'sql': {'fetch_messages': \"SELECT * FROM telegram_messages WHERE timestamp > NOW() - INTERVAL '1 hour';\\n\"}}, {'id': 'sync', 'interval': {'value': 300, 'type': 'integer'}, 'timeout': {'value': 600, 'type': 'integer'}}], 'includes': ['tests/processes.yaml']}\n",
      "Getting section: logging, key: log_dir_name\n",
      "Result of get('logging', 'log_dir_name'): logs\n",
      "Test passed: get('logging', 'log_dir_name') returned 'logs'\n"
     ]
    }
   ],
   "source": [
    "# Simulate export CHTRKR_ROOT=\"/home/egirg/shared/trading_dev\"\n",
    "os.environ[\"CHTRKR_ROOT\"] = \"/home/egirg/shared/trading_dev\"\n",
    "\n",
    "# Determine project_root\n",
    "env_var_name = \"CHTRKR_ROOT\"\n",
    "fallback_path = os.path.abspath(os.path.join(os.getcwd(), '..'))\n",
    "project_root = ConfigManager.determine_project_root(\n",
    "    env_var_name=env_var_name,\n",
    "    cli_project_root=None,  # Simulate no CLI parameter to test CHTRKR_ROOT\n",
    "    fallback_path=fallback_path\n",
    ")\n",
    "\n",
    "# Create ConfigManager instance\n",
    "config = ConfigManager('tests/combined_config_test.yaml', project_root=project_root)\n",
    "\n",
    "# Print loaded config\n",
    "print(\"Loaded config:\", config._data)\n",
    "\n",
    "# Test get method\n",
    "result = config.get(\"logging\", \"log_dir_name\")\n",
    "print(\"Result of get('logging', 'log_dir_name'):\", result)\n",
    "\n",
    "# Replicate test_singleton_pattern assertion\n",
    "assert result == \"logs\", \"Singleton not initialized\"\n",
    "print(\"Test passed: get('logging', 'log_dir_name') returned 'logs'\")"
   ]
  },
  {
   "cell_type": "code",
   "execution_count": null,
   "id": "811260ad-238f-448d-b25d-cca273462b66",
   "metadata": {},
   "outputs": [],
   "source": []
  }
 ],
 "metadata": {
  "kernelspec": {
   "display_name": "Python 3 (ipykernel)",
   "language": "python",
   "name": "python3"
  },
  "language_info": {
   "codemirror_mode": {
    "name": "ipython",
    "version": 3
   },
   "file_extension": ".py",
   "mimetype": "text/x-python",
   "name": "python",
   "nbconvert_exporter": "python",
   "pygments_lexer": "ipython3",
   "version": "3.12.3"
  }
 },
 "nbformat": 4,
 "nbformat_minor": 5
}
